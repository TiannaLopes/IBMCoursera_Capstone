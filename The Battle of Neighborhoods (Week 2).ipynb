{
    "cells": [
        {
            "cell_type": "markdown",
            "metadata": {
                "collapsed": true
            },
            "source": "# Peer-graded Assignment: Capstone Project - The Battle of Neighborhoods (Week 2)"
        },
        {
            "cell_type": "markdown",
            "metadata": {},
            "source": "In this week, you will continue working on your capstone project. Please remember by the end of this week, you will need to submit the following:\n\nA full report consisting of all of the following components (15 marks):\n\n1. \n<br>\nIntroduction where you discuss the business problem and who would be interested in this project.<br>\nData where you describe the data that will be used to solve the problem and the source of the data.<br>\nMethodology section which represents the main component of the report where you discuss and describe any exploratory data analysis that you did, any inferential statistical testing that you performed, if any, and what machine learnings were used and why.<br>\nResults section where you discuss the results.<br>\n Discussion section where you discuss any observations you noted and any recommendations you can make based on the results.<br>\n Conclusion section where you conclude the report.<br>\n\n2.\n<br>\nA link to your Notebook on your Github repository pushed showing your code. (15 marks)\n<br>\n3.\n<br>\nYour choice of a presentation or blogpost. (10 marks)"
        },
        {
            "cell_type": "markdown",
            "metadata": {},
            "source": "## Table of contents\n* [Introduction: Business Problem](#introduction)\n* [Data](#data)\n* [Methodology](#methodology)\n* [Analysis](#analysis)\n* [Conclusion](#conclusion)"
        },
        {
            "cell_type": "markdown",
            "metadata": {},
            "source": "## Introduction: Business Problem <a name=\"introduction\"></a>"
        },
        {
            "cell_type": "markdown",
            "metadata": {},
            "source": "In this project we will try to find the optimal location for different businesses in New York City. \n<br>\nSpecifically, we will look at the current resturants, stores, and other businesses and their locations and business information to see if some businesses are succeeding based on their location or if some are not. \n<br>\nWe will use data science tools to generate ideal locations for several example businesses. "
        },
        {
            "cell_type": "markdown",
            "metadata": {},
            "source": "## Data <a name=\"data\"></a>"
        },
        {
            "cell_type": "markdown",
            "metadata": {},
            "source": "Based on our problems, factors that will influence a businesses sucess in a location are:\n* location in NYC (cordinates)\n* Categories of businesses\nFollowing data sources will be needed to extract/generate the required information:\n* Foursquare API\n* Google Maps API geocoding \n* NYC Data (Wiki)\n"
        },
        {
            "cell_type": "markdown",
            "metadata": {},
            "source": "### Import data"
        },
        {
            "cell_type": "code",
            "execution_count": 5,
            "metadata": {},
            "outputs": [
                {
                    "name": "stdout",
                    "output_type": "stream",
                    "text": "Libraries imported.\n"
                }
            ],
            "source": "import numpy as np \n\nimport pandas as pd \npd.set_option(\"display.max_columns\", None)\npd.set_option(\"display.max_rows\", None)\n\nimport json \n\nfrom geopy.geocoders import Nominatim\nimport geocoder \n\nimport requests \nfrom bs4 import BeautifulSoup\n\nfrom pandas.io.json import json_normalize \n\nimport matplotlib.cm as cm\nimport matplotlib.colors as colors\n\nfrom sklearn.cluster import KMeans\n\nimport folium \n\nprint(\"Libraries imported.\")"
        },
        {
            "cell_type": "markdown",
            "metadata": {},
            "source": "## Scrap Data into dataframe"
        },
        {
            "cell_type": "code",
            "execution_count": 8,
            "metadata": {},
            "outputs": [],
            "source": "data = requests.get(\"https://en.wikipedia.org/wiki/Neighborhoods_in_New_York_City\").text"
        },
        {
            "cell_type": "code",
            "execution_count": 9,
            "metadata": {},
            "outputs": [],
            "source": "soup = BeautifulSoup(data, 'html.parser')"
        },
        {
            "cell_type": "code",
            "execution_count": 10,
            "metadata": {},
            "outputs": [],
            "source": "neighborhoodList = []"
        },
        {
            "cell_type": "code",
            "execution_count": 13,
            "metadata": {},
            "outputs": [
                {
                    "ename": "IndexError",
                    "evalue": "list index out of range",
                    "output_type": "error",
                    "traceback": [
                        "\u001b[0;31m---------------------------------------------------------------------------\u001b[0m",
                        "\u001b[0;31mIndexError\u001b[0m                                Traceback (most recent call last)",
                        "\u001b[0;32m<ipython-input-13-5627f2c6faaf>\u001b[0m in \u001b[0;36m<module>\u001b[0;34m\u001b[0m\n\u001b[0;32m----> 1\u001b[0;31m \u001b[0;32mfor\u001b[0m \u001b[0mrow\u001b[0m \u001b[0;32min\u001b[0m \u001b[0msoup\u001b[0m\u001b[0;34m.\u001b[0m\u001b[0mfind_all\u001b[0m\u001b[0;34m(\u001b[0m\u001b[0;34m\"div\"\u001b[0m\u001b[0;34m,\u001b[0m \u001b[0mclass_\u001b[0m\u001b[0;34m=\u001b[0m\u001b[0;34m\"mw-category\"\u001b[0m\u001b[0;34m)\u001b[0m\u001b[0;34m[\u001b[0m\u001b[0;36m1\u001b[0m\u001b[0;34m]\u001b[0m\u001b[0;34m.\u001b[0m\u001b[0mfindAll\u001b[0m\u001b[0;34m(\u001b[0m\u001b[0;34m\"\"\u001b[0m\u001b[0;34m)\u001b[0m\u001b[0;34m:\u001b[0m\u001b[0;34m\u001b[0m\u001b[0;34m\u001b[0m\u001b[0m\n\u001b[0m\u001b[1;32m      2\u001b[0m     \u001b[0mneighborhoodList\u001b[0m\u001b[0;34m.\u001b[0m\u001b[0mappend\u001b[0m\u001b[0;34m(\u001b[0m\u001b[0mrow\u001b[0m\u001b[0;34m.\u001b[0m\u001b[0mtext\u001b[0m\u001b[0;34m)\u001b[0m\u001b[0;34m\u001b[0m\u001b[0;34m\u001b[0m\u001b[0m\n",
                        "\u001b[0;31mIndexError\u001b[0m: list index out of range"
                    ]
                }
            ],
            "source": "for row in soup.find_all(\"div\", class_=\"mw-category\")[1].findAll(\"\"):\n    neighborhoodList.append(row.text)"
        },
        {
            "cell_type": "code",
            "execution_count": 14,
            "metadata": {},
            "outputs": [
                {
                    "data": {
                        "text/html": "<div>\n<style scoped>\n    .dataframe tbody tr th:only-of-type {\n        vertical-align: middle;\n    }\n\n    .dataframe tbody tr th {\n        vertical-align: top;\n    }\n\n    .dataframe thead th {\n        text-align: right;\n    }\n</style>\n<table border=\"1\" class=\"dataframe\">\n  <thead>\n    <tr style=\"text-align: right;\">\n      <th></th>\n      <th>Neighborhood</th>\n    </tr>\n  </thead>\n  <tbody>\n  </tbody>\n</table>\n</div>",
                        "text/plain": "Empty DataFrame\nColumns: [Neighborhood]\nIndex: []"
                    },
                    "execution_count": 14,
                    "metadata": {},
                    "output_type": "execute_result"
                }
            ],
            "source": "nyc_df = pd.DataFrame({\"Neighborhood\": neighborhoodList})\nnyc_df.head()"
        },
        {
            "cell_type": "code",
            "execution_count": 15,
            "metadata": {},
            "outputs": [
                {
                    "data": {
                        "text/plain": "(0, 1)"
                    },
                    "execution_count": 15,
                    "metadata": {},
                    "output_type": "execute_result"
                }
            ],
            "source": "nyc_df.shape"
        },
        {
            "cell_type": "markdown",
            "metadata": {},
            "source": "## Get cordinates "
        },
        {
            "cell_type": "code",
            "execution_count": 17,
            "metadata": {},
            "outputs": [],
            "source": "def get_nyc(neighborhood):\n    # initialize your variable to None\n    nyc_coords = None\n    # loop until you get the coordinates\n    while(nyc_coords is None):\n        g = geocoder.arcgis('{}, New York, New York'.format(neighborhood))\n        nyc_coords = g.nyc\n    return nyc_coords"
        },
        {
            "cell_type": "code",
            "execution_count": null,
            "metadata": {},
            "outputs": [],
            "source": "coords = [ get_nyc(neighborhood) for neighborhood in nyc_df[\"Neighborhood\"].tolist() ]"
        },
        {
            "cell_type": "code",
            "execution_count": null,
            "metadata": {},
            "outputs": [],
            "source": "coords"
        },
        {
            "cell_type": "code",
            "execution_count": null,
            "metadata": {},
            "outputs": [],
            "source": "df_coords = pd.DataFrame(coords, columns=['Latitude', 'Longitude'])"
        },
        {
            "cell_type": "code",
            "execution_count": null,
            "metadata": {},
            "outputs": [],
            "source": "nyc_df['Latitude'] = df_coords['Latitude']\nnyc_df['Longitude'] = df_coords['Longitude']"
        },
        {
            "cell_type": "code",
            "execution_count": 18,
            "metadata": {},
            "outputs": [
                {
                    "name": "stdout",
                    "output_type": "stream",
                    "text": "(0, 1)\n"
                },
                {
                    "data": {
                        "text/html": "<div>\n<style scoped>\n    .dataframe tbody tr th:only-of-type {\n        vertical-align: middle;\n    }\n\n    .dataframe tbody tr th {\n        vertical-align: top;\n    }\n\n    .dataframe thead th {\n        text-align: right;\n    }\n</style>\n<table border=\"1\" class=\"dataframe\">\n  <thead>\n    <tr style=\"text-align: right;\">\n      <th></th>\n      <th>Neighborhood</th>\n    </tr>\n  </thead>\n  <tbody>\n  </tbody>\n</table>\n</div>",
                        "text/plain": "Empty DataFrame\nColumns: [Neighborhood]\nIndex: []"
                    },
                    "execution_count": 18,
                    "metadata": {},
                    "output_type": "execute_result"
                }
            ],
            "source": "print(nyc_df.shape)\nnyc_df"
        },
        {
            "cell_type": "markdown",
            "metadata": {},
            "source": "## Create Map"
        },
        {
            "cell_type": "code",
            "execution_count": null,
            "metadata": {},
            "outputs": [],
            "source": "address = 'New York, USA'\n\ngeolocator = Nominatim(user_agent=\"my-application\")\nlocation = geolocator.geocode(address)\nlatitude = location.latitude\nlongitude = location.longitude\nprint('The geograpical coordinate of New York, New York {}, {}.'.format(latitude, longitude))"
        },
        {
            "cell_type": "code",
            "execution_count": null,
            "metadata": {},
            "outputs": [],
            "source": "map_nyc = folium.Map(location=[latitude, longitude], zoom_start=11)\n\n# add markers to map\nfor lat, lng, neighborhood in zip(nyc_df['Latitude'], nyc_df['Longitude'], nyc_df['Neighborhood']):\n    label = '{}'.format(neighborhood)\n    label = folium.Popup(label, parse_html=True)\n    folium.CircleMarker(\n        [lat, lng],\n        radius=5,\n        popup=label,\n        color='blue',\n        fill=True,\n        fill_color='#3186cc',\n        fill_opacity=0.7).add_to(map_nyc)  \n    \nmap_nyc"
        },
        {
            "cell_type": "code",
            "execution_count": null,
            "metadata": {},
            "outputs": [],
            "source": "map_nyc.save('map_nyc.html')\n"
        },
        {
            "cell_type": "markdown",
            "metadata": {},
            "source": "## Use the Foursquare API to explore the neighborhoods\n"
        },
        {
            "cell_type": "code",
            "execution_count": null,
            "metadata": {},
            "outputs": [],
            "source": "CLIENT_ID = 'your Foursquare ID' \nCLIENT_SECRET = 'your Foursquare Secret'  \nVERSION = '20180605' \n\nprint('Your credentails:')\nprint('CLIENT_ID: ' + CLIENT_ID)\nprint('CLIENT_SECRET:' + CLIENT_SECRET)"
        },
        {
            "cell_type": "code",
            "execution_count": null,
            "metadata": {},
            "outputs": [],
            "source": "# get venues of a certaina radius\nradius = 1000\nLIMIT = 500\n\nvenues = []\n\nfor lat, long, neighborhood in zip(nyc_df['Latitude'], nyc_df['Longitude'], nyc_df['Neighborhood']):\n    \n    # create the API request URL\n    url = \"https://api.foursquare.com/v2/venues/explore?client_id={}&client_secret={}&v={}&ll={},{}&radius={}&limit={}\".format(\n        CLIENT_ID,\n        CLIENT_SECRET,\n        VERSION,\n        lat,\n        long,\n        radius, \n        LIMIT)\n    \n    # make the GET request\n    results = requests.get(url).json()[\"response\"]['groups'][0]['items']\n    \n    # return only relevant information for each nearby venue\n    for venue in results:\n        venues.append((\n            neighborhood,\n            lat, \n            long, \n            venue['venue']['name'], \n            venue['venue']['location']['lat'], \n            venue['venue']['location']['lng'],  \n            venue['venue']['categories'][0]['name']))"
        },
        {
            "cell_type": "code",
            "execution_count": null,
            "metadata": {},
            "outputs": [],
            "source": "venues_df = pd.DataFrame(venues)\n\n# define the column names\nvenues_df.columns = ['Neighborhood', 'Latitude', 'Longitude', 'VenueName', 'VenueLatitude', 'VenueLongitude', 'VenueCategory']\n\nprint(venues_df.shape)\nvenues_df.head()"
        },
        {
            "cell_type": "code",
            "execution_count": null,
            "metadata": {},
            "outputs": [],
            "source": "venues_df.groupby([\"Neighborhood\"]).count()"
        },
        {
            "cell_type": "code",
            "execution_count": null,
            "metadata": {},
            "outputs": [],
            "source": "print('There are {} uniques categories.'.format(len(venues_df['VenueCategory'].unique())))"
        },
        {
            "cell_type": "code",
            "execution_count": null,
            "metadata": {},
            "outputs": [],
            "source": "venues_df['VenueCategory'].unique()[:50]"
        },
        {
            "cell_type": "code",
            "execution_count": null,
            "metadata": {},
            "outputs": [],
            "source": "\"Neighborhood\" in venues_df['VenueCategory'].unique()"
        },
        {
            "cell_type": "markdown",
            "metadata": {},
            "source": "## Analyse Neighbourhoods"
        },
        {
            "cell_type": "code",
            "execution_count": null,
            "metadata": {},
            "outputs": [],
            "source": "# one hot encoding\nnyc_onehot = pd.get_dummies(venues_df[['VenueCategory']], prefix=\"\", prefix_sep=\"\")\n\n# add neighborhood column back to dataframe\nnyc_onehot['Neighborhoods'] = venues_df['Neighborhood'] \n\n# move neighborhood column to the first column\nfixed_columns = [nyc_onehot.columns[-1]] + list(nyc_onehot.columns[:-1])\nnyc_onehot = nyc_onehot[fixed_columns]\n\nprint(nyc_onehot.shape)\nnyc_onehot.head()"
        },
        {
            "cell_type": "code",
            "execution_count": null,
            "metadata": {},
            "outputs": [],
            "source": "print(nyc_grouped.shape)\nnyc_grouped"
        },
        {
            "cell_type": "markdown",
            "metadata": {},
            "source": "## Cluster Neighbourhoods"
        },
        {
            "cell_type": "code",
            "execution_count": null,
            "metadata": {},
            "outputs": [],
            "source": "kclusters = 4\n\nnyc_clustering = nyc_df.drop([\"Neighborhoods\"], 1)\n\n# run k-means clustering\nkmeans = KMeans(n_clusters=kclusters, random_state=0).fit(nyc_clustering)\n\n# check cluster labels generated for each row in the dataframe\nkmeans.labels_[0:10]"
        },
        {
            "cell_type": "code",
            "execution_count": null,
            "metadata": {},
            "outputs": [],
            "source": "nyc_merged = nyc_df.copy()\n\n# add clustering labels\nnyc_merged[\"Cluster Labels\"] = kmeans.labels_"
        },
        {
            "cell_type": "code",
            "execution_count": null,
            "metadata": {},
            "outputs": [],
            "source": "nyc_merged.rename(columns={\"Neighborhoods\": \"Neighborhood\"}, inplace=True)\nnyc_merged.head()"
        },
        {
            "cell_type": "code",
            "execution_count": null,
            "metadata": {},
            "outputs": [],
            "source": "#merge \nnyc_merged = nyc_merged.join(nyc_df.set_index(\"Neighborhood\"), on=\"Neighborhood\")\n\nprint(nyc_merged.shape)\nnyc_merged.head()"
        },
        {
            "cell_type": "code",
            "execution_count": null,
            "metadata": {},
            "outputs": [],
            "source": "#sort by cluster labels\nprint(kl_merged.shape)\nkl_merged.sort_values([\"Cluster Labels\"], inplace=True)\nkl_merged"
        },
        {
            "cell_type": "markdown",
            "metadata": {},
            "source": "## Visualization"
        },
        {
            "cell_type": "code",
            "execution_count": null,
            "metadata": {},
            "outputs": [],
            "source": "# create map\nmap_clusters = folium.Map(location=[latitude, longitude], zoom_start=11)\n\n# set color scheme for the clusters\nx = np.arange(kclusters)\nys = [i+x+(i*x)**2 for i in range(kclusters)]\ncolors_array = cm.rainbow(np.linspace(0, 1, len(ys)))\nrainbow = [colors.rgb2hex(i) for i in colors_array]\n\n# add markers to the map\nmarkers_colors = []\nfor lat, lon, poi, cluster in zip(nyc_merged['Latitude'], nyc_merged['Longitude'], nyc_merged['Neighborhood'], nyc_merged['Cluster Labels']):\n    label = folium.Popup(str(poi) + ' - Cluster ' + str(cluster), parse_html=True)\n    folium.CircleMarker(\n        [lat, lon],\n        radius=5,\n        popup=label,\n        color=rainbow[cluster-1],\n        fill=True,\n        fill_color=rainbow[cluster-1],\n        fill_opacity=0.7).add_to(map_clusters)\n       \nmap_clusters"
        },
        {
            "cell_type": "code",
            "execution_count": null,
            "metadata": {},
            "outputs": [],
            "source": "map_clusters.save('map_clusters.html')"
        },
        {
            "cell_type": "markdown",
            "metadata": {},
            "source": "## Analysis <a name=\"analysis\"></a>"
        },
        {
            "cell_type": "code",
            "execution_count": null,
            "metadata": {},
            "outputs": [],
            "source": "nyc_merged.loc[nyc_merged['Cluster Labels'] == 0]"
        },
        {
            "cell_type": "code",
            "execution_count": null,
            "metadata": {},
            "outputs": [],
            "source": "nyc_merged.loc[nyc_merged['Cluster Labels'] == 1]"
        },
        {
            "cell_type": "code",
            "execution_count": null,
            "metadata": {},
            "outputs": [],
            "source": "nyc_merged.loc[nyc_merged['Cluster Labels'] == 2]"
        },
        {
            "cell_type": "code",
            "execution_count": null,
            "metadata": {},
            "outputs": [],
            "source": "nyc_merged.loc[nyc_merged['Cluster Labels'] == 3]"
        },
        {
            "cell_type": "markdown",
            "metadata": {},
            "source": "## Methodology <a name=\"methodology\"></a>"
        },
        {
            "cell_type": "markdown",
            "metadata": {},
            "source": "In this project we will use the popular city of New York, New York to analyse exisiting businesses. We will limit out analysis to 500 since theyre are so many businesses. \n\nIn first step we collect the data, locations and businesses from wiki data and foursquare.\n\nSecond step in our analysis will be calculation and exploration of the categories of businesses to identify a few areas close to center with lower numbers of certain businesses.\n\nIn third and final step we will focus on most promising areas and within those create 4 clusters of locations that meet basic requirements. \nWe will present map of all such locations but also create clusters (using **k-means clustering**) of those locations to identify general zones / neighborhoods / addresses to find the ideal location to open businessess with minimal competition. "
        },
        {
            "cell_type": "markdown",
            "metadata": {},
            "source": "## Conclusion <a name=\"conclusion\"></a>"
        },
        {
            "cell_type": "markdown",
            "metadata": {},
            "source": "In conclusion, the locations on the map with low density of similar categories of businesses indicate low competition but could also mean that there is a lower need for said category in that neighbourhood. "
        }
    ],
    "metadata": {
        "kernelspec": {
            "display_name": "Python 3.6",
            "language": "python",
            "name": "python3"
        },
        "language_info": {
            "codemirror_mode": {
                "name": "ipython",
                "version": 3
            },
            "file_extension": ".py",
            "mimetype": "text/x-python",
            "name": "python",
            "nbconvert_exporter": "python",
            "pygments_lexer": "ipython3",
            "version": "3.6.9"
        }
    },
    "nbformat": 4,
    "nbformat_minor": 1
}